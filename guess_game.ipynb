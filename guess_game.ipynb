{
  "nbformat": 4,
  "nbformat_minor": 0,
  "metadata": {
    "colab": {
      "provenance": [],
      "authorship_tag": "ABX9TyMpewZ0hw6Oqiws4eSuIRPY",
      "include_colab_link": true
    },
    "kernelspec": {
      "name": "python3",
      "display_name": "Python 3"
    },
    "language_info": {
      "name": "python"
    }
  },
  "cells": [
    {
      "cell_type": "markdown",
      "metadata": {
        "id": "view-in-github",
        "colab_type": "text"
      },
      "source": [
        "<a href=\"https://colab.research.google.com/github/Joseth28/actividad-de-juego_adivinar/blob/main/guess_game.ipynb\" target=\"_parent\"><img src=\"https://colab.research.google.com/assets/colab-badge.svg\" alt=\"Open In Colab\"/></a>"
      ]
    },
    {
      "cell_type": "code",
      "source": [
        "import random\n",
        "\n",
        "def generate_board(size, options):\n",
        "    # Genera una matriz de números aleatorios como tablero\n",
        "    rows, cols = size\n",
        "    board = [[random.choice([random.randint(1, 10)] + options) for _ in range(cols)] for _ in range(rows)]\n",
        "    return board\n",
        "\n",
        "def show_board(board):\n",
        "    # Muestra el tablero al jugador\n",
        "    for row in board:\n",
        "        print(' '.join(str(x) for x in row))\n",
        "\n",
        "def hide_value(board):\n",
        "    # Oculta un valor secreto en el tablero\n",
        "    secret_row = random.randint(0, len(board) - 1)\n",
        "    secret_col = random.randint(0, len(board[0]) - 1)\n",
        "    secret_value = board[secret_row][secret_col]\n",
        "    board[secret_row][secret_col] = '*'\n",
        "    return secret_value, board\n",
        "\n",
        "def is_valid_input(guess):\n",
        "    # Verifica si la entrada es válida (número o letra)\n",
        "    return guess.isdigit() or guess.isalpha()\n",
        "\n",
        "def play_game(size, options):\n",
        "    # Juega el juego de adivinanzas\n",
        "    board = generate_board(size, options)\n",
        "    secret_value, hidden_board = hide_value(board)\n",
        "    show_board(hidden_board)\n",
        "\n",
        "    attempts = 0\n",
        "    while True:\n",
        "        guess = input(\"explota tu cabeza adivinando el valor oculto: \")\n",
        "        attempts += 1\n",
        "\n",
        "        if is_valid_input(guess):\n",
        "            if guess == str(secret_value):\n",
        "                print(\"¡Lo lograste! Adivinaste el valor secreto.\")\n",
        "                break\n",
        "            elif attempts >= 5:\n",
        "                print(\"F por ti crack, te has equivocado más de 5 veces. La respuesta correcta es:\", secret_value)\n",
        "                break\n",
        "            else:\n",
        "                print(\"No, sigue intentado.\")\n",
        "        else:\n",
        "            print(\"Por favor, ingresa un número o letra válida.\")\n",
        "\n",
        "def main():\n",
        "    print(\"Bienvenido al juego de que explotara tu cabeza\")\n",
        "    rows = int(input(\"Ingresa el número de filas del tablero, si quieres algo dificil sube el numerito: \"))\n",
        "    cols = int(input(\"Ingresa el número de columnas del tablero, si quieres algo dificil sube el numerito: \"))\n",
        "    size = (rows, cols)\n",
        "    options = ['b', 'd', 'h']  # Opciones adicionales para agregar al tablero\n",
        "\n",
        "    play_game(size, options)\n",
        "\n",
        "    while True:\n",
        "        play_again = input(\"¿Quieres jugar de nuevo? (s/n): \").lower()\n",
        "        if play_again != 's':\n",
        "            break\n",
        "        play_game(size, options)\n",
        "\n",
        "if __name__ == \"__main__\":\n",
        "    main()\n"
      ],
      "metadata": {
        "id": "UKECBiAbb90H"
      },
      "execution_count": null,
      "outputs": []
    }
  ]
}